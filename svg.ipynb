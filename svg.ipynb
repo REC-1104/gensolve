{
 "cells": [
  {
   "cell_type": "markdown",
   "metadata": {},
   "source": [
    "## Side Approach : Manipulating SVG "
   ]
  },
  {
   "cell_type": "code",
   "execution_count": 4,
   "metadata": {},
   "outputs": [
    {
     "name": "stdout",
     "output_type": "stream",
     "text": [
      "Regularized SVG saved as regularized_output.svg\n"
     ]
    }
   ],
   "source": [
    "import svgpathtools\n",
    "from svgwrite import Drawing\n",
    "import numpy as np\n",
    "\n",
    "# Load the SVG file\n",
    "svg_file = 'frag0.svg'\n",
    "paths, attributes, _ = svgpathtools.svg2paths2(svg_file)  # Ignoring the extra returned values\n",
    "\n",
    "# Function to identify and regularize shapes\n",
    "def identify_and_regularize(paths):\n",
    "    regularized_paths = []\n",
    "    for path in paths:\n",
    "        for segment in path:\n",
    "            if isinstance(segment, svgpathtools.Line):\n",
    "                # Regularize lines\n",
    "                regularized_paths.append(svgpathtools.Line(segment.start, segment.end))\n",
    "            elif isinstance(segment, svgpathtools.Arc):\n",
    "                # Regularize circles/ellipses\n",
    "                if np.isclose(segment.radius.real, segment.radius.imag):\n",
    "                    center = segment.center\n",
    "                    radius = (segment.radius.real + segment.radius.imag) / 2\n",
    "                    regularized_paths.append(svgpathtools.Arc(center=center, radius=radius, start=segment.start, end=segment.end))\n",
    "                else:\n",
    "                    regularized_paths.append(segment)\n",
    "            else:\n",
    "                # Handle other types of segments\n",
    "                regularized_paths.append(segment)\n",
    "    return regularized_paths\n",
    "\n",
    "# Regularize the shapes in the SVG paths\n",
    "regularized_paths = identify_and_regularize(paths)\n",
    "\n",
    "# Create a new SVG file to save the regularized paths\n",
    "output_svg = 'regularized_output.svg'\n",
    "dwg = Drawing(output_svg)\n",
    "\n",
    "# Function to convert a path to an SVG path string\n",
    "def path_to_svg_path_string(path):\n",
    "    svg_path_string = \"\"\n",
    "    for segment in path:\n",
    "        if isinstance(segment, svgpathtools.Line):\n",
    "            svg_path_string += f\"M{segment.start.real},{segment.start.imag} L{segment.end.real},{segment.end.imag} \"\n",
    "        elif isinstance(segment, svgpathtools.CubicBezier):\n",
    "            svg_path_string += f\"M{segment.start.real},{segment.start.imag} C{segment.control1.real},{segment.control1.imag} {segment.control2.real},{segment.control2.imag} {segment.end.real},{segment.end.imag} \"\n",
    "        elif isinstance(segment, svgpathtools.QuadraticBezier):\n",
    "            svg_path_string += f\"M{segment.start.real},{segment.start.imag} Q{segment.control.real},{segment.control.imag} {segment.end.real},{segment.end.imag} \"\n",
    "        elif isinstance(segment, svgpathtools.Arc):\n",
    "            svg_path_string += f\"M{segment.start.real},{segment.start.imag} A{segment.radius.real},{segment.radius.imag} 0 {int(segment.large_arc_flag)},{int(segment.sweep_flag)} {segment.end.real},{segment.end.imag} \"\n",
    "    return svg_path_string.strip()\n",
    "\n",
    "# Add the regularized paths to the SVG\n",
    "for path in regularized_paths:\n",
    "    d = path_to_svg_path_string([path])\n",
    "    dwg.add(dwg.path(d=d, stroke=\"black\", fill=\"none\"))\n",
    "\n",
    "# Save the regularized SVG file\n",
    "dwg.save()\n",
    "\n",
    "print(f\"Regularized SVG saved as {output_svg}\")\n"
   ]
  },
  {
   "cell_type": "code",
   "execution_count": 5,
   "metadata": {},
   "outputs": [
    {
     "name": "stdout",
     "output_type": "stream",
     "text": [
      "Paths have been written to output_paths.csv\n"
     ]
    }
   ],
   "source": [
    "import svgpathtools\n",
    "import csv\n",
    "\n",
    "# Load the SVG file\n",
    "svg_file = 'frag0.svg'\n",
    "paths, attributes, _ = svgpathtools.svg2paths2(svg_file)  # Ignoring the extra returned values\n",
    "\n",
    "# Function to convert path segments to a format that can be written to CSV\n",
    "def segment_to_string(segment):\n",
    "    if isinstance(segment, svgpathtools.Line):\n",
    "        return f\"Line: start=({segment.start.real}, {segment.start.imag}), end=({segment.end.real}, {segment.end.imag})\"\n",
    "    elif isinstance(segment, svgpathtools.CubicBezier):\n",
    "        return f\"CubicBezier: start=({segment.start.real}, {segment.start.imag}), control1=({segment.control1.real}, {segment.control1.imag}), control2=({segment.control2.real}, {segment.control2.imag}), end=({segment.end.real}, {segment.end.imag})\"\n",
    "    elif isinstance(segment, svgpathtools.QuadraticBezier):\n",
    "        return f\"QuadraticBezier: start=({segment.start.real}, {segment.start.imag}), control=({segment.control.real}, {segment.control.imag}), end=({segment.end.real}, {segment.end.imag})\"\n",
    "    elif isinstance(segment, svgpathtools.Arc):\n",
    "        return f\"Arc: start=({segment.start.real}, {segment.start.imag}), radius=({segment.radius.real}, {segment.radius.imag}), end=({segment.end.real}, {segment.end.imag})\"\n",
    "    else:\n",
    "        return \"Unknown segment\"\n",
    "\n",
    "# Write paths and their segments to a CSV file\n",
    "output_csv = 'output_paths.csv'\n",
    "with open(output_csv, mode='w', newline='') as file:\n",
    "    writer = csv.writer(file)\n",
    "    writer.writerow(['Path Index', 'Segment Description'])\n",
    "    \n",
    "    for i, path in enumerate(paths):\n",
    "        for segment in path:\n",
    "            writer.writerow([i, segment_to_string(segment)])\n",
    "\n",
    "print(f\"Paths have been written to {output_csv}\")\n"
   ]
  },
  {
   "cell_type": "code",
   "execution_count": 6,
   "metadata": {},
   "outputs": [
    {
     "data": {
      "image/png": "[encoded data removed]",
      "text/plain": [
       "<Figure size 640x480 with 1 Axes>"
      ]
     },
     "metadata": {},
     "output_type": "display_data"
    }
   ],
   "source": [
    "import csv\n",
    "import matplotlib.pyplot as plt\n",
    "from matplotlib.path import Path as MplPath\n",
    "import matplotlib.patches as patches\n",
    "\n",
    "# Function to parse the segment string and return the coordinates\n",
    "def parse_segment(segment_str):\n",
    "    segment_str = segment_str.replace('CubicBezier: start=(', '').replace('Line: start=(', '')\n",
    "    segment_str = segment_str.replace('control1=(', '').replace('control2=(', '')\n",
    "    segment_str = segment_str.replace('end=(', '').replace(')', '')\n",
    "    coords = list(map(float, segment_str.split(',')))\n",
    "    return coords\n",
    "\n",
    "# Plotting function\n",
    "def plot_segments_from_csv(csv_file):\n",
    "    fig, ax = plt.subplots()\n",
    "    \n",
    "    with open(csv_file, 'r') as file:\n",
    "        reader = csv.reader(file)\n",
    "        next(reader)  # Skip the header\n",
    "        for row in reader:\n",
    "            segment_str = row[1]\n",
    "            coords = parse_segment(segment_str)\n",
    "\n",
    "            if \"CubicBezier\" in row[1]:\n",
    "                verts = [(coords[0], coords[1]), (coords[2], coords[3]), (coords[4], coords[5]), (coords[6], coords[7])]\n",
    "                codes = [MplPath.MOVETO, MplPath.CURVE4, MplPath.CURVE4, MplPath.CURVE4]\n",
    "            elif \"Line\" in row[1]:\n",
    "                verts = [(coords[0], coords[1]), (coords[2], coords[3])]\n",
    "                codes = [MplPath.MOVETO, MplPath.LINETO]\n",
    "            else:\n",
    "                continue\n",
    "            \n",
    "            path = MplPath(verts, codes)\n",
    "            patch = patches.PathPatch(path, edgecolor='black', lw=2, fill=False)\n",
    "            ax.add_patch(patch)\n",
    "    \n",
    "    ax.set_aspect('equal', 'box')\n",
    "    plt.show()\n",
    "\n",
    "# Specify your CSV file path here\n",
    "csv_file = 'output_paths.csv'\n",
    "plot_segments_from_csv(csv_file)\n"
   ]
  }
 ],
 "metadata": {
  "kernelspec": {
   "display_name": "Python 3",
   "language": "python",
   "name": "python3"
  },
  "language_info": {
   "codemirror_mode": {
    "name": "ipython",
    "version": 3
   },
   "file_extension": ".py",
   "mimetype": "text/x-python",
   "name": "python",
   "nbconvert_exporter": "python",
   "pygments_lexer": "ipython3",
   "version": "3.11.3"
  }
 },
 "nbformat": 4,
 "nbformat_minor": 2
}
